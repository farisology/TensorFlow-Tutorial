{
 "cells": [
  {
   "cell_type": "code",
   "execution_count": 1,
   "metadata": {},
   "outputs": [],
   "source": [
    "#Relevant imports\n",
    "\n",
    "import tensorflow as tf\n",
    "import numpy as np\n",
    "import matplotlib.pyplot as plt\n",
    "%matplotlib inline"
   ]
  },
  {
   "cell_type": "markdown",
   "metadata": {},
   "source": [
    "# Neural Network with feed dictionaries"
   ]
  },
  {
   "cell_type": "code",
   "execution_count": 2,
   "metadata": {},
   "outputs": [
    {
     "name": "stdout",
     "output_type": "stream",
     "text": [
      "[[123.63758  136.26466   59.122993 101.119415 115.68213 ]\n",
      " [136.81638   73.45244  165.2276    53.500465 187.2669  ]\n",
      " [170.91202  116.54109   20.635292  57.24941   86.40939 ]\n",
      " [101.482994 104.6215    23.32844   55.819153 103.72682 ]\n",
      " [164.84483   96.64345  107.75501  108.2251   160.0691  ]]\n"
     ]
    }
   ],
   "source": [
    "#Example of using feed dictionaries\n",
    "#Creating two uniform random variables of shape (5,5)\n",
    "\n",
    "a = np.random.uniform(0,100,(5,5))\n",
    "b = np.random.uniform(0,100,(5,5))\n",
    "\n",
    "var1 = tf.placeholder(tf.float32,shape=(5,5))\n",
    "var2 = tf.placeholder(tf.float32,shape=(5,5))\n",
    "add = var1 + var2\n",
    "\n",
    "with tf.Session() as sess:\n",
    "    result = sess.run(add, feed_dict={var1:a, var2:b})\n",
    "\n",
    "print(result)"
   ]
  },
  {
   "cell_type": "code",
   "execution_count": 3,
   "metadata": {},
   "outputs": [
    {
     "name": "stdout",
     "output_type": "stream",
     "text": [
      "Addition\n",
      "\n",
      "[[ 89.3856   113.291306  92.06767   44.310963  90.491516]\n",
      " [ 70.962845  50.981865  52.335186 106.82412   24.18695 ]\n",
      " [ 77.634605 164.54114   92.96733   66.16941  185.78265 ]\n",
      " [ 93.75418  101.57148  104.92915   73.375565 161.39667 ]\n",
      " [104.66056   80.6978   126.05427  128.23805  109.21338 ]]\n",
      "\n",
      "Multiplication\n",
      "[[1489.6173   3147.2986    785.71967   129.45322   782.71967 ]\n",
      " [ 814.5513    631.5436    222.57802   768.8639     16.04346 ]\n",
      " [  50.444557 6710.7793   2084.3477    827.9274   8628.799   ]\n",
      " [2143.7078    406.70987  2752.5312    599.2572   6511.8203  ]\n",
      " [1767.4128   1400.4562   2829.9646   3805.167    2186.7874  ]]\n"
     ]
    }
   ],
   "source": [
    "#Another Example\n",
    "\n",
    "np.random.seed(99)\n",
    "tf.set_random_seed(99)\n",
    "\n",
    "var1 = np.random.uniform(0,100,(5,5))\n",
    "var2 = np.random.uniform(0,100,(5,5))\n",
    "\n",
    "a = tf.placeholder(tf.float32, shape=(5,5))\n",
    "b = tf.placeholder(tf.float32, shape=(5,5))\n",
    "\n",
    "add = a + b\n",
    "mul = a * b\n",
    "\n",
    "with tf.Session() as sess:\n",
    "    res_add = sess.run(add, feed_dict={a:var1, b:var2})\n",
    "    res_mul = sess.run(mul, feed_dict={a:var1, b:var2})\n",
    "    \n",
    "print(\"Addition\\n\")\n",
    "print(res_add)\n",
    "print(\"\\nMultiplication\")\n",
    "print(res_mul)\n"
   ]
  },
  {
   "cell_type": "markdown",
   "metadata": {},
   "source": [
    "# Example Neural Network"
   ]
  },
  {
   "cell_type": "code",
   "execution_count": 4,
   "metadata": {},
   "outputs": [],
   "source": [
    "n_features = 10\n",
    "n_neurons = 3"
   ]
  },
  {
   "cell_type": "code",
   "execution_count": 5,
   "metadata": {},
   "outputs": [],
   "source": [
    "#Placeholder for X\n",
    "#X will hold data, its dimensions are rows*n_features\n",
    "\n",
    "x = tf.placeholder(tf.float32, shape=[None, n_features])"
   ]
  },
  {
   "cell_type": "code",
   "execution_count": 8,
   "metadata": {},
   "outputs": [],
   "source": [
    "#Variables for b and w\n",
    "#Bias corresponding to each neuron\n",
    "\n",
    "b = tf.Variable(tf.zeros([n_neurons]))\n",
    "#Weights corresponding to every feature in each neuron\n",
    "w = tf.Variable(tf.random_normal([n_features, n_neurons]))"
   ]
  },
  {
   "cell_type": "code",
   "execution_count": 9,
   "metadata": {},
   "outputs": [
    {
     "name": "stdout",
     "output_type": "stream",
     "text": [
      "[[0.09620656 0.23766455 0.97016495]\n",
      " [0.10591022 0.480637   0.80651283]]\n"
     ]
    }
   ],
   "source": [
    "#Operations\n",
    "\n",
    "mul = tf.matmul(x,w)\n",
    "z = tf.add(mul, b)\n",
    "act = tf.sigmoid(z)\n",
    "\n",
    "init = tf.global_variables_initializer()\n",
    "\n",
    "with tf.Session() as sess:\n",
    "    sess.run(init)\n",
    "    result = sess.run(act, feed_dict={x: np.random.random([2, n_features])})\n",
    "    \n",
    "print(result)"
   ]
  },
  {
   "cell_type": "markdown",
   "metadata": {},
   "source": [
    "# Full Network Example"
   ]
  },
  {
   "cell_type": "code",
   "execution_count": 10,
   "metadata": {},
   "outputs": [
    {
     "data": {
      "text/plain": [
       "<matplotlib.collections.PathCollection at 0x11efb3710>"
      ]
     },
     "execution_count": 10,
     "metadata": {},
     "output_type": "execute_result"
    },
    {
     "data": {
      "image/png": "[encoded data removed]",
      "text/plain": [
       "<Figure size 432x288 with 1 Axes>"
      ]
     },
     "metadata": {},
     "output_type": "display_data"
    }
   ],
   "source": [
    "#Data creation\n",
    "#X and Y corresponding to 10 points each\n",
    "\n",
    "x = np.linspace(0,10,10) + np.random.uniform(-2,2,10)\n",
    "y = np.linspace(0,10,10) + np.random.uniform(-2,2,10)\n",
    "\n",
    "plt.scatter(x,y)"
   ]
  },
  {
   "cell_type": "code",
   "execution_count": 15,
   "metadata": {},
   "outputs": [],
   "source": [
    "#Variables for bias and weight\n",
    "\n",
    "b = tf.Variable(0.1)\n",
    "w = tf.Variable(5.0)"
   ]
  },
  {
   "cell_type": "code",
   "execution_count": 16,
   "metadata": {},
   "outputs": [],
   "source": [
    "#Cost function\n",
    "\n",
    "error = 0\n",
    "\n",
    "for x_temp, y_temp in zip(x,y):\n",
    "    y_pred = w * x_temp + b\n",
    "    error += (y_temp - y_pred)**2"
   ]
  },
  {
   "cell_type": "code",
   "execution_count": 20,
   "metadata": {},
   "outputs": [],
   "source": [
    "#Optimizer\n",
    "\n",
    "optimizer = tf.train.GradientDescentOptimizer(learning_rate=0.001)\n",
    "model = optimizer.minimize(error)"
   ]
  },
  {
   "cell_type": "code",
   "execution_count": 21,
   "metadata": {},
   "outputs": [],
   "source": [
    "#variable intializer\n",
    "\n",
    "init = tf.global_variables_initializer()\n",
    "\n",
    "with tf.Session() as sess:\n",
    "    sess.run(init)\n",
    "    n_epochs = 1000\n",
    "    \n",
    "    for epoch in range(n_epochs):\n",
    "        sess.run(model)\n",
    "        \n",
    "    #Fetch weight and bias\n",
    "    final_w, final_b = sess.run([w,b])\n",
    "    \n",
    "    "
   ]
  },
  {
   "cell_type": "code",
   "execution_count": 22,
   "metadata": {},
   "outputs": [
    {
     "data": {
      "text/plain": [
       "0.7205642"
      ]
     },
     "execution_count": 22,
     "metadata": {},
     "output_type": "execute_result"
    }
   ],
   "source": [
    "final_w"
   ]
  },
  {
   "cell_type": "code",
   "execution_count": 23,
   "metadata": {},
   "outputs": [
    {
     "data": {
      "text/plain": [
       "1.3565004"
      ]
     },
     "execution_count": 23,
     "metadata": {},
     "output_type": "execute_result"
    }
   ],
   "source": [
    "final_b"
   ]
  },
  {
   "cell_type": "code",
   "execution_count": 28,
   "metadata": {},
   "outputs": [
    {
     "data": {
      "text/plain": [
       "[<matplotlib.lines.Line2D at 0x11f94f390>]"
      ]
     },
     "execution_count": 28,
     "metadata": {},
     "output_type": "execute_result"
    },
    {
     "data": {
      "image/png": "[encoded data removed]",
      "text/plain": [
       "<Figure size 432x288 with 1 Axes>"
      ]
     },
     "metadata": {},
     "output_type": "display_data"
    }
   ],
   "source": [
    "#Evaluate results\n",
    "\n",
    "x_test = np.linspace(0,10,10)\n",
    "y_pred_test = x_test * final_w + final_b\n",
    "\n",
    "plt.scatter(x,y)\n",
    "plt.plot(x_test, y_pred_test,'r')"
   ]
  },
  {
   "cell_type": "code",
   "execution_count": null,
   "metadata": {},
   "outputs": [],
   "source": []
  }
 ],
 "metadata": {
  "kernelspec": {
   "display_name": "Python 2",
   "language": "python",
   "name": "python2"
  },
  "language_info": {
   "codemirror_mode": {
    "name": "ipython",
    "version": 2
   },
   "file_extension": ".py",
   "mimetype": "text/x-python",
   "name": "python",
   "nbconvert_exporter": "python",
   "pygments_lexer": "ipython2",
   "version": "2.7.15"
  }
 },
 "nbformat": 4,
 "nbformat_minor": 2
}
