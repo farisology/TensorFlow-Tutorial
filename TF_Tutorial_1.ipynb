{
 "cells": [
  {
   "cell_type": "code",
   "execution_count": 15,
   "metadata": {},
   "outputs": [],
   "source": [
    "#Relevant imports\n",
    "\n",
    "import tensorflow as tf\n",
    "import numpy as np\n",
    "import matplotlib.pyplot as plt\n",
    "%matplotlib inline"
   ]
  },
  {
   "cell_type": "markdown",
   "metadata": {},
   "source": [
    "# Basics"
   ]
  },
  {
   "cell_type": "code",
   "execution_count": 16,
   "metadata": {},
   "outputs": [
    {
     "name": "stdout",
     "output_type": "stream",
     "text": [
      "Inderpreet Singh\n",
      "3\n"
     ]
    }
   ],
   "source": [
    "#Operations on Constants\n",
    "\n",
    "fname = tf.constant(\"Inderpreet\")\n",
    "lname = tf.constant(\" Singh\")\n",
    "name = fname + lname\n",
    "\n",
    "num1 = tf.constant(1)\n",
    "num2 = tf.constant(2)\n",
    "num3 = num1 + num2\n",
    "\n",
    "with tf.Session() as sess:\n",
    "    name = sess.run(name)\n",
    "    num = sess.run(num3)\n",
    "    \n",
    "print(name)\n",
    "print(num)"
   ]
  },
  {
   "cell_type": "code",
   "execution_count": 17,
   "metadata": {},
   "outputs": [
    {
     "name": "stdout",
     "output_type": "stream",
     "text": [
      "\n",
      "\n",
      "10.0\n",
      "\n",
      "\n",
      "[[1. 1.]\n",
      " [1. 1.]]\n",
      "\n",
      "\n",
      "[[0. 0.]\n",
      " [0. 0.]]\n",
      "\n",
      "\n",
      "[[10 10]\n",
      " [10 10]]\n",
      "\n",
      "\n",
      "[[5.32506   5.1838064]\n",
      " [5.332606  2.6822257]]\n",
      "\n",
      "\n",
      "[[ 7.200223  10.6243   ]\n",
      " [ 9.02965    7.9038057]]\n"
     ]
    }
   ],
   "source": [
    "#Pipeline of Operations\n",
    "\n",
    "const = tf.constant(10.0)\n",
    "ones = tf.ones(shape=[2,2])\n",
    "zeros = tf.zeros(shape=[2,2])\n",
    "fillmat = tf.fill([2,2],10)\n",
    "randuni = tf.random_uniform([2,2],minval=0,maxval=10)\n",
    "randnorm = tf.random_normal([2,2],mean=10,stddev=2)\n",
    "\n",
    "list_operations = [const, ones, zeros, fillmat, randuni, randnorm]\n",
    "\n",
    "with tf.Session() as sess:\n",
    "    for op in list_operations:\n",
    "        print(\"\\n\")\n",
    "        print(sess.run(op))\n",
    "    "
   ]
  },
  {
   "cell_type": "code",
   "execution_count": 18,
   "metadata": {},
   "outputs": [
    {
     "name": "stdout",
     "output_type": "stream",
     "text": [
      "[[2]\n",
      " [5]]\n"
     ]
    }
   ],
   "source": [
    "#Matrix Multiplication\n",
    "\n",
    "mat1 = tf.constant([[1,1],[2,3]])\n",
    "mat2 = tf.constant([[1],[1]])\n",
    "mat3 = tf.matmul(mat1,mat2)\n",
    "\n",
    "with tf.Session() as sess:\n",
    "    print(sess.run(mat3))"
   ]
  },
  {
   "cell_type": "code",
   "execution_count": 21,
   "metadata": {},
   "outputs": [
    {
     "name": "stdout",
     "output_type": "stream",
     "text": [
      "[[ 9.511304  8.711362]\n",
      " [11.350275  8.962854]]\n",
      "\n",
      "\n",
      "1.0\n"
     ]
    }
   ],
   "source": [
    "#Variables\n",
    "\n",
    "randn = tf.random_normal([2,2],mean=10,stddev=2)\n",
    "var1 = tf.Variable(initial_value=randn)\n",
    "var2 = tf.Variable(1.0)\n",
    "\n",
    "init = tf.global_variables_initializer()\n",
    "\n",
    "with tf.Session() as sess:\n",
    "    sess.run(init)\n",
    "    print(sess.run(var1))\n",
    "    print(\"\\n\")\n",
    "    print(sess.run(var2))\n",
    "    \n",
    "    "
   ]
  },
  {
   "cell_type": "code",
   "execution_count": 22,
   "metadata": {},
   "outputs": [],
   "source": [
    "#Placeholders\n",
    "\n",
    "ph1 = tf.placeholder(tf.float32, shape=[None,5])\n",
    "ph2 = tf.placeholder(tf.float32)"
   ]
  },
  {
   "cell_type": "markdown",
   "metadata": {},
   "source": [
    "# Graphs"
   ]
  },
  {
   "cell_type": "code",
   "execution_count": 23,
   "metadata": {},
   "outputs": [
    {
     "name": "stdout",
     "output_type": "stream",
     "text": [
      "<function get_default_graph at 0x118200de8>\n",
      "<tensorflow.python.framework.ops.Graph object at 0x11ce15190>\n"
     ]
    }
   ],
   "source": [
    "print(tf.get_default_graph)\n",
    "graph = tf.Graph()\n",
    "print(graph)"
   ]
  },
  {
   "cell_type": "code",
   "execution_count": 24,
   "metadata": {},
   "outputs": [
    {
     "data": {
      "text/plain": [
       "True"
      ]
     },
     "execution_count": 24,
     "metadata": {},
     "output_type": "execute_result"
    }
   ],
   "source": [
    "graph1 = tf.get_default_graph()\n",
    "graph2 = tf.Graph()\n",
    "\n",
    "graph1 is tf.get_default_graph()"
   ]
  },
  {
   "cell_type": "code",
   "execution_count": 25,
   "metadata": {},
   "outputs": [
    {
     "data": {
      "text/plain": [
       "False"
      ]
     },
     "execution_count": 25,
     "metadata": {},
     "output_type": "execute_result"
    }
   ],
   "source": [
    "graph2 is tf.get_default_graph()"
   ]
  },
  {
   "cell_type": "code",
   "execution_count": 27,
   "metadata": {},
   "outputs": [
    {
     "name": "stdout",
     "output_type": "stream",
     "text": [
      "True\n"
     ]
    }
   ],
   "source": [
    "with graph2.as_default():\n",
    "    print(graph2 is tf.get_default_graph())"
   ]
  },
  {
   "cell_type": "code",
   "execution_count": null,
   "metadata": {},
   "outputs": [],
   "source": []
  }
 ],
 "metadata": {
  "kernelspec": {
   "display_name": "Python 2",
   "language": "python",
   "name": "python2"
  },
  "language_info": {
   "codemirror_mode": {
    "name": "ipython",
    "version": 2
   },
   "file_extension": ".py",
   "mimetype": "text/x-python",
   "name": "python",
   "nbconvert_exporter": "python",
   "pygments_lexer": "ipython2",
   "version": "2.7.15"
  }
 },
 "nbformat": 4,
 "nbformat_minor": 2
}
