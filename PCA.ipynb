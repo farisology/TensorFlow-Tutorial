{
 "cells": [
  {
   "cell_type": "code",
   "execution_count": 1,
   "metadata": {},
   "outputs": [],
   "source": [
    "#Relevant Imports\n",
    "\n",
    "import pandas as pd\n",
    "import numpy as np\n",
    "from sklearn.preprocessing import scale\n",
    "from sklearn.decomposition import PCA\n",
    "import matplotlib.pyplot as plt"
   ]
  },
  {
   "cell_type": "code",
   "execution_count": 2,
   "metadata": {},
   "outputs": [],
   "source": [
    "#Read CSV\n",
    "\n",
    "data = pd.read_csv(\"preprocessed_datasets.csv\")"
   ]
  },
  {
   "cell_type": "code",
   "execution_count": 3,
   "metadata": {},
   "outputs": [
    {
     "data": {
      "text/html": [
       "<div>\n",
       "<style scoped>\n",
       "    .dataframe tbody tr th:only-of-type {\n",
       "        vertical-align: middle;\n",
       "    }\n",
       "\n",
       "    .dataframe tbody tr th {\n",
       "        vertical-align: top;\n",
       "    }\n",
       "\n",
       "    .dataframe thead th {\n",
       "        text-align: right;\n",
       "    }\n",
       "</style>\n",
       "<table border=\"1\" class=\"dataframe\">\n",
       "  <thead>\n",
       "    <tr style=\"text-align: right;\">\n",
       "      <th></th>\n",
       "      <th>id</th>\n",
       "      <th>PlayerName</th>\n",
       "      <th>DraftAge</th>\n",
       "      <th>Country</th>\n",
       "      <th>country_group</th>\n",
       "      <th>Height</th>\n",
       "      <th>Weight</th>\n",
       "      <th>Position</th>\n",
       "      <th>DraftYear</th>\n",
       "      <th>Overall</th>\n",
       "      <th>...</th>\n",
       "      <th>rs_PIM</th>\n",
       "      <th>rs_PlusMinus</th>\n",
       "      <th>po_GP</th>\n",
       "      <th>po_G</th>\n",
       "      <th>po_A</th>\n",
       "      <th>po_P</th>\n",
       "      <th>po_PIM</th>\n",
       "      <th>sum_7yr_GP</th>\n",
       "      <th>sum_7yr_TOI</th>\n",
       "      <th>GP_greater_than_0</th>\n",
       "    </tr>\n",
       "  </thead>\n",
       "  <tbody>\n",
       "    <tr>\n",
       "      <th>0</th>\n",
       "      <td>9</td>\n",
       "      <td>David Bornhammar</td>\n",
       "      <td>18</td>\n",
       "      <td>Sweden</td>\n",
       "      <td>EURO</td>\n",
       "      <td>73</td>\n",
       "      <td>198</td>\n",
       "      <td>D</td>\n",
       "      <td>1999</td>\n",
       "      <td>192</td>\n",
       "      <td>...</td>\n",
       "      <td>44</td>\n",
       "      <td>0</td>\n",
       "      <td>0</td>\n",
       "      <td>0</td>\n",
       "      <td>0</td>\n",
       "      <td>0</td>\n",
       "      <td>0</td>\n",
       "      <td>0</td>\n",
       "      <td>0</td>\n",
       "      <td>no</td>\n",
       "    </tr>\n",
       "    <tr>\n",
       "      <th>1</th>\n",
       "      <td>27</td>\n",
       "      <td>Yared Hagos</td>\n",
       "      <td>18</td>\n",
       "      <td>Sweden</td>\n",
       "      <td>EURO</td>\n",
       "      <td>73</td>\n",
       "      <td>218</td>\n",
       "      <td>C</td>\n",
       "      <td>2001</td>\n",
       "      <td>70</td>\n",
       "      <td>...</td>\n",
       "      <td>24</td>\n",
       "      <td>1</td>\n",
       "      <td>10</td>\n",
       "      <td>4</td>\n",
       "      <td>1</td>\n",
       "      <td>5</td>\n",
       "      <td>4</td>\n",
       "      <td>0</td>\n",
       "      <td>0</td>\n",
       "      <td>no</td>\n",
       "    </tr>\n",
       "    <tr>\n",
       "      <th>2</th>\n",
       "      <td>30</td>\n",
       "      <td>Andreas Jamtin</td>\n",
       "      <td>18</td>\n",
       "      <td>Sweden</td>\n",
       "      <td>EURO</td>\n",
       "      <td>72</td>\n",
       "      <td>194</td>\n",
       "      <td>L</td>\n",
       "      <td>2001</td>\n",
       "      <td>157</td>\n",
       "      <td>...</td>\n",
       "      <td>155</td>\n",
       "      <td>2</td>\n",
       "      <td>0</td>\n",
       "      <td>0</td>\n",
       "      <td>0</td>\n",
       "      <td>0</td>\n",
       "      <td>0</td>\n",
       "      <td>0</td>\n",
       "      <td>0</td>\n",
       "      <td>no</td>\n",
       "    </tr>\n",
       "    <tr>\n",
       "      <th>3</th>\n",
       "      <td>58</td>\n",
       "      <td>Per Mars</td>\n",
       "      <td>19</td>\n",
       "      <td>Sweden</td>\n",
       "      <td>EURO</td>\n",
       "      <td>75</td>\n",
       "      <td>216</td>\n",
       "      <td>C</td>\n",
       "      <td>2001</td>\n",
       "      <td>87</td>\n",
       "      <td>...</td>\n",
       "      <td>60</td>\n",
       "      <td>-2</td>\n",
       "      <td>5</td>\n",
       "      <td>1</td>\n",
       "      <td>1</td>\n",
       "      <td>2</td>\n",
       "      <td>4</td>\n",
       "      <td>0</td>\n",
       "      <td>0</td>\n",
       "      <td>no</td>\n",
       "    </tr>\n",
       "    <tr>\n",
       "      <th>4</th>\n",
       "      <td>67</td>\n",
       "      <td>Daniel Fernholm</td>\n",
       "      <td>19</td>\n",
       "      <td>Sweden</td>\n",
       "      <td>EURO</td>\n",
       "      <td>76</td>\n",
       "      <td>229</td>\n",
       "      <td>D</td>\n",
       "      <td>2002</td>\n",
       "      <td>101</td>\n",
       "      <td>...</td>\n",
       "      <td>12</td>\n",
       "      <td>29</td>\n",
       "      <td>0</td>\n",
       "      <td>0</td>\n",
       "      <td>0</td>\n",
       "      <td>0</td>\n",
       "      <td>0</td>\n",
       "      <td>0</td>\n",
       "      <td>0</td>\n",
       "      <td>no</td>\n",
       "    </tr>\n",
       "  </tbody>\n",
       "</table>\n",
       "<p>5 rows × 25 columns</p>\n",
       "</div>"
      ],
      "text/plain": [
       "   id        PlayerName  DraftAge Country country_group  Height  Weight  \\\n",
       "0   9  David Bornhammar        18  Sweden          EURO      73     198   \n",
       "1  27       Yared Hagos        18  Sweden          EURO      73     218   \n",
       "2  30    Andreas Jamtin        18  Sweden          EURO      72     194   \n",
       "3  58          Per Mars        19  Sweden          EURO      75     216   \n",
       "4  67   Daniel Fernholm        19  Sweden          EURO      76     229   \n",
       "\n",
       "  Position  DraftYear  Overall        ...          rs_PIM  rs_PlusMinus  \\\n",
       "0        D       1999      192        ...              44             0   \n",
       "1        C       2001       70        ...              24             1   \n",
       "2        L       2001      157        ...             155             2   \n",
       "3        C       2001       87        ...              60            -2   \n",
       "4        D       2002      101        ...              12            29   \n",
       "\n",
       "   po_GP  po_G  po_A  po_P  po_PIM  sum_7yr_GP  sum_7yr_TOI  GP_greater_than_0  \n",
       "0      0     0     0     0       0           0            0                 no  \n",
       "1     10     4     1     5       4           0            0                 no  \n",
       "2      0     0     0     0       0           0            0                 no  \n",
       "3      5     1     1     2       4           0            0                 no  \n",
       "4      0     0     0     0       0           0            0                 no  \n",
       "\n",
       "[5 rows x 25 columns]"
      ]
     },
     "execution_count": 3,
     "metadata": {},
     "output_type": "execute_result"
    }
   ],
   "source": [
    "data.head()"
   ]
  },
  {
   "cell_type": "code",
   "execution_count": 4,
   "metadata": {},
   "outputs": [
    {
     "data": {
      "text/plain": [
       "Index([u'id', u'PlayerName', u'DraftAge', u'Country', u'country_group',\n",
       "       u'Height', u'Weight', u'Position', u'DraftYear', u'Overall',\n",
       "       u'CSS_rank', u'rs_GP', u'rs_G', u'rs_A', u'rs_P', u'rs_PIM',\n",
       "       u'rs_PlusMinus', u'po_GP', u'po_G', u'po_A', u'po_P', u'po_PIM',\n",
       "       u'sum_7yr_GP', u'sum_7yr_TOI', u'GP_greater_than_0'],\n",
       "      dtype='object')"
      ]
     },
     "execution_count": 4,
     "metadata": {},
     "output_type": "execute_result"
    }
   ],
   "source": [
    "data.columns"
   ]
  },
  {
   "cell_type": "code",
   "execution_count": 5,
   "metadata": {},
   "outputs": [],
   "source": [
    "data = data.drop(['id', 'PlayerName', 'Country'], axis=1)"
   ]
  },
  {
   "cell_type": "code",
   "execution_count": 6,
   "metadata": {},
   "outputs": [
    {
     "data": {
      "text/plain": [
       "Index([u'DraftAge', u'country_group', u'Height', u'Weight', u'Position',\n",
       "       u'DraftYear', u'Overall', u'CSS_rank', u'rs_GP', u'rs_G', u'rs_A',\n",
       "       u'rs_P', u'rs_PIM', u'rs_PlusMinus', u'po_GP', u'po_G', u'po_A',\n",
       "       u'po_P', u'po_PIM', u'sum_7yr_GP', u'sum_7yr_TOI',\n",
       "       u'GP_greater_than_0'],\n",
       "      dtype='object')"
      ]
     },
     "execution_count": 6,
     "metadata": {},
     "output_type": "execute_result"
    }
   ],
   "source": [
    "data.columns"
   ]
  },
  {
   "cell_type": "code",
   "execution_count": 7,
   "metadata": {},
   "outputs": [],
   "source": [
    "#Convert categorical features to continous features\n",
    "\n",
    "country_group_dictionary = {\"CAN\" : 0, \"EURO\" : 1, \"USA\" : 2}\n",
    "position_dictionary = {\"C\" : 0, \"D\" : 1, \"L\" : 2, \"R\" : 3}\n",
    "data[\"country_group\"] = data[\"country_group\"].map(country_group_dictionary).astype(int)\n",
    "data[\"Position\"] = data[\"Position\"].map(position_dictionary).astype(int)"
   ]
  },
  {
   "cell_type": "code",
   "execution_count": 8,
   "metadata": {},
   "outputs": [],
   "source": [
    "#Get feature data\n",
    "\n",
    "X = data.drop(['GP_greater_than_0'], axis=1)\n",
    "X = X.values"
   ]
  },
  {
   "cell_type": "code",
   "execution_count": 9,
   "metadata": {},
   "outputs": [
    {
     "name": "stderr",
     "output_type": "stream",
     "text": [
      "/usr/local/lib/python2.7/site-packages/sklearn/utils/validation.py:475: DataConversionWarning: Data with input dtype int64 was converted to float64 by the scale function.\n",
      "  warnings.warn(msg, DataConversionWarning)\n"
     ]
    }
   ],
   "source": [
    "#Standardize the dataset\n",
    "\n",
    "X = scale(X)"
   ]
  },
  {
   "cell_type": "code",
   "execution_count": 10,
   "metadata": {},
   "outputs": [
    {
     "data": {
      "text/plain": [
       "array([ 27.2,  38.6,  49.5,  57.2,  63.7,  69.2,  74. ,  78.6,  82.8,\n",
       "        86.5,  89.4,  91.8,  93.9,  95.5,  97. ,  98.4,  99.2,  99.9,\n",
       "       100. , 100. ])"
      ]
     },
     "execution_count": 10,
     "metadata": {},
     "output_type": "execute_result"
    }
   ],
   "source": [
    "#Apply PCA to see how many features we need to select\n",
    "\n",
    "covar_matrix = PCA(n_components = 20) \n",
    "covar_matrix.fit(X)\n",
    "\n",
    "#Calculate variance ratios\n",
    "variance = covar_matrix.explained_variance_ratio_ \n",
    "var=np.cumsum(np.round(covar_matrix.explained_variance_ratio_, decimals=3)*100)\n",
    "var"
   ]
  },
  {
   "cell_type": "code",
   "execution_count": 11,
   "metadata": {},
   "outputs": [
    {
     "data": {
      "text/plain": [
       "[<matplotlib.lines.Line2D at 0x1176b4e90>]"
      ]
     },
     "execution_count": 11,
     "metadata": {},
     "output_type": "execute_result"
    },
    {
     "data": {
      "image/png": "[encoded data removed]",
      "text/plain": [
       "<Figure size 432x288 with 1 Axes>"
      ]
     },
     "metadata": {},
     "output_type": "display_data"
    }
   ],
   "source": [
    "#Plot graph \n",
    "\n",
    "plt.ylabel('% Variance Explained')\n",
    "plt.xlabel('No. of Features')\n",
    "plt.title('PCA Analysis')\n",
    "plt.ylim(20,110)\n",
    "plt.xlim(0,21)\n",
    "plt.plot(var)"
   ]
  }
 ],
 "metadata": {
  "kernelspec": {
   "display_name": "Python 2",
   "language": "python",
   "name": "python2"
  },
  "language_info": {
   "codemirror_mode": {
    "name": "ipython",
    "version": 2
   },
   "file_extension": ".py",
   "mimetype": "text/x-python",
   "name": "python",
   "nbconvert_exporter": "python",
   "pygments_lexer": "ipython2",
   "version": "2.7.15"
  }
 },
 "nbformat": 4,
 "nbformat_minor": 2
}
